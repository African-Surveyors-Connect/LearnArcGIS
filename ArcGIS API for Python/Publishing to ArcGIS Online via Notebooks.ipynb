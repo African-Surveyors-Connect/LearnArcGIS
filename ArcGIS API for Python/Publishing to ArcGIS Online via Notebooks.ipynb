{
 "cells": [
  {
   "cell_type": "markdown",
   "metadata": {},
   "source": [
    "# Publishing To ArcGIS Online via Notebooks\n",
    "\n",
    "*Written By: [MATINGO KUMBIRAI N](https://www.linkedin.com/in/kumbirai-matingo-6910a617a/)* \n",
    "\n",
    "In this step by step *ArcGIS API for Python* tutorial we are going to publish an item from a CSV file within our machine to our ArcGIS Online Portal. \n",
    "\n",
    "Here is a list of steps we are going to take to achieve great results in their order: \n",
    "\n",
    "1. Login to our account [ArcGIS Online Account](https://arcgis.com)\n",
    "2. Use **Pandas** to read & visualize our CSV data\n",
    "3. Upload our CSV file\n",
    "4. Turn CSV file into a **Feature Layer** \n",
    "5. Finally, Add our new Feature Layer to a map\n",
    "\n",
    "All these steps I have outline are going to be carried out within this same notebook. Make sure to understand the *syntax* that is required for every operation that we are going to be performing within this tutorial. \n",
    "\n",
    "**Note: You can also use the ArcGIS Pro embedded Notebooks, the API is already pre-installed on installation of the software which automatically makes it easy to perform Notebook operations for Data Science** \n",
    "\n",
    "In case you weren't here during the first tutorial, [here](https://africansurveyors.net/introduction-to-arcgis-api-for-python/) is a resource which you can follow for installation of the ArcGIS API for Python within your local machine. \n",
    "\n",
    "You can also watch it on *YouTube* \n",
    "\n",
    "[![Introduction to ArcGIS API for Python](https://img.youtube.com/vi/572QvhSUhmM/0.jpg)](https://www.youtube.com/watch?v=572QvhSUhmM)\n",
    "\n",
    "**LET'S GET STRAIGHT TO IT**\n"
   ]
  },
  {
   "cell_type": "markdown",
   "metadata": {},
   "source": [
    "## IMPORTING LIBRARIES\n",
    "\n",
    "Just like what we mentioned in the Introductory guide, every operation within Jupyter Notebooks or that used Python Language as the basis for the operations requires some additional libraries to quicken the processes and automate these workflows. \n",
    "\n",
    "Since we already downloaded the *Python API*, all we need to do is just call that into the Notebook and keep it ready for use within our space later down the road. \n",
    "\n",
    "So right below, we are going to *import* the following Python libraries\n",
    "\n",
    "- GIS \n",
    "- Pandas and\n",
    "- getpass \n",
    "\n",
    "I already mentioned what the **GIS** library and the **Pandas** library does for us so I am not going to repeat that. If you have forgotten kindly refer back to the previous tutorials that were published. \n",
    "\n",
    "**getpass** - *The getpass() function prints a prompt then reads input from the user until they press return. The input is passed back as a string to the caller.* [Source](https://pymotw.com/2/getpass/). \n",
    "\n",
    "So basically I need the **getpass()** function to be able to store my password for my ArcGIS Online account and send that as an aunthentication request. The reason why I called this function I don't want anyone reading this to be able to see my password while I record the video tutorial or while I print this document. Its also a great feature for security purposes which keeps all sensitive information secure. \n",
    "\n",
    "So let's import these libraries into our Notebook. "
   ]
  },
  {
   "cell_type": "code",
   "execution_count": 1,
   "metadata": {},
   "outputs": [],
   "source": [
    "from arcgis.gis import GIS\n",
    "from getpass import getpass\n",
    "import pandas as pd # Remember you can always shorten the library name for referal within the notebook. "
   ]
  },
  {
   "cell_type": "markdown",
   "metadata": {},
   "source": [
    "*Hint: Always remember to call all the librarries that you are going to be using right at the top. This should be the first thing you need to do before anything else* \n",
    "\n",
    "### Authentication (Login In) to the ArcGIS Online Account\n",
    "\n",
    "For us to get permission (be allowed) to interact with the platform, we need to be authenticated to perform the operations hence that requires that we are logged in. \n",
    "\n",
    "So, I've created a `password` variable which is going to store the input from the `getpass()` function. \n",
    "\n",
    "The variable `gis` is the one which is going to be used to authenticate the user based on the following parameters:\n",
    "- the site URL in this case which is the URL for the ArcGIS Online Platform\n",
    "- the `username` of the person and \n",
    "- the `password` of the user \n",
    "\n",
    "All this is done via the `GIS()` method and the parameters to be passed are the one's I have just mentioned above. \n",
    "\n",
    "*When you run the Cell, a small input box will appear below asking for your password* "
   ]
  },
  {
   "cell_type": "code",
   "execution_count": 2,
   "metadata": {},
   "outputs": [
    {
     "name": "stdout",
     "output_type": "stream",
     "text": [
      "········\n"
     ]
    }
   ],
   "source": [
    "password = getpass()\n",
    "gis = GIS(\"http://www.arcgis.com\", \"africansurveyors\", password)"
   ]
  },
  {
   "cell_type": "markdown",
   "metadata": {},
   "source": [
    "Now that we have been authenticated, we need to move on to the next step. \n",
    "\n",
    "## Loading our Data (csv) \n",
    "\n",
    "It's time for us to use the **Pandas** library to view, read and import our data. \n",
    "\n",
    "- declared a variable in which you are going to store the path to the CSV file which you want to upload. `csv` \n",
    "- call the **pandas** `read_csv` function to read our data and\n",
    "- the `head()` function to print out the first *rows* within the data that we have specified as a parameter within the function. *Remember: If the function is blank, `head()` function will print the first 6 rows as the default* \n",
    "\n",
    "Our data from the CSV file is then printed as output within our Notebooks. "
   ]
  },
  {
   "cell_type": "code",
   "execution_count": 3,
   "metadata": {},
   "outputs": [
    {
     "data": {
      "text/html": [
       "<div>\n",
       "<style scoped>\n",
       "    .dataframe tbody tr th:only-of-type {\n",
       "        vertical-align: middle;\n",
       "    }\n",
       "\n",
       "    .dataframe tbody tr th {\n",
       "        vertical-align: top;\n",
       "    }\n",
       "\n",
       "    .dataframe thead th {\n",
       "        text-align: right;\n",
       "    }\n",
       "</style>\n",
       "<table border=\"1\" class=\"dataframe\">\n",
       "  <thead>\n",
       "    <tr style=\"text-align: right;\">\n",
       "      <th></th>\n",
       "      <th>ID_0</th>\n",
       "      <th>ISO</th>\n",
       "      <th>NAME_0</th>\n",
       "      <th>ID_1</th>\n",
       "      <th>NAME_1</th>\n",
       "      <th>ID_2</th>\n",
       "      <th>NAME_2</th>\n",
       "      <th>TYPE_2</th>\n",
       "      <th>ENGTYPE_2</th>\n",
       "      <th>NL_NAME_2</th>\n",
       "      <th>VARNAME_2</th>\n",
       "      <th>x</th>\n",
       "      <th>y</th>\n",
       "    </tr>\n",
       "  </thead>\n",
       "  <tbody>\n",
       "    <tr>\n",
       "      <th>0</th>\n",
       "      <td>256</td>\n",
       "      <td>ZWE</td>\n",
       "      <td>Zimbabwe</td>\n",
       "      <td>1</td>\n",
       "      <td>Bulawayo</td>\n",
       "      <td>1</td>\n",
       "      <td>Bulawayo</td>\n",
       "      <td>District</td>\n",
       "      <td>District</td>\n",
       "      <td>NaN</td>\n",
       "      <td>NaN</td>\n",
       "      <td>28.54811</td>\n",
       "      <td>-20.141</td>\n",
       "    </tr>\n",
       "    <tr>\n",
       "      <th>1</th>\n",
       "      <td>256</td>\n",
       "      <td>ZWE</td>\n",
       "      <td>Zimbabwe</td>\n",
       "      <td>2</td>\n",
       "      <td>Harare</td>\n",
       "      <td>2</td>\n",
       "      <td>Harare</td>\n",
       "      <td>District</td>\n",
       "      <td>District</td>\n",
       "      <td>NaN</td>\n",
       "      <td>Salisbury|Harare Urban</td>\n",
       "      <td>31.06504</td>\n",
       "      <td>-17.859</td>\n",
       "    </tr>\n",
       "    <tr>\n",
       "      <th>2</th>\n",
       "      <td>256</td>\n",
       "      <td>ZWE</td>\n",
       "      <td>Zimbabwe</td>\n",
       "      <td>3</td>\n",
       "      <td>Manicaland</td>\n",
       "      <td>3</td>\n",
       "      <td>Buhera</td>\n",
       "      <td>District</td>\n",
       "      <td>District</td>\n",
       "      <td>NaN</td>\n",
       "      <td>NaN</td>\n",
       "      <td>31.87523</td>\n",
       "      <td>-19.451</td>\n",
       "    </tr>\n",
       "    <tr>\n",
       "      <th>3</th>\n",
       "      <td>256</td>\n",
       "      <td>ZWE</td>\n",
       "      <td>Zimbabwe</td>\n",
       "      <td>3</td>\n",
       "      <td>Manicaland</td>\n",
       "      <td>4</td>\n",
       "      <td>Chimanimani</td>\n",
       "      <td>District</td>\n",
       "      <td>District</td>\n",
       "      <td>NaN</td>\n",
       "      <td>NaN</td>\n",
       "      <td>32.72136</td>\n",
       "      <td>-19.781</td>\n",
       "    </tr>\n",
       "    <tr>\n",
       "      <th>4</th>\n",
       "      <td>256</td>\n",
       "      <td>ZWE</td>\n",
       "      <td>Zimbabwe</td>\n",
       "      <td>3</td>\n",
       "      <td>Manicaland</td>\n",
       "      <td>5</td>\n",
       "      <td>Chipinge</td>\n",
       "      <td>District</td>\n",
       "      <td>District</td>\n",
       "      <td>NaN</td>\n",
       "      <td>NaN</td>\n",
       "      <td>32.47598</td>\n",
       "      <td>-20.495</td>\n",
       "    </tr>\n",
       "    <tr>\n",
       "      <th>5</th>\n",
       "      <td>256</td>\n",
       "      <td>ZWE</td>\n",
       "      <td>Zimbabwe</td>\n",
       "      <td>3</td>\n",
       "      <td>Manicaland</td>\n",
       "      <td>6</td>\n",
       "      <td>Makoni</td>\n",
       "      <td>District</td>\n",
       "      <td>District</td>\n",
       "      <td>NaN</td>\n",
       "      <td>NaN</td>\n",
       "      <td>32.18336</td>\n",
       "      <td>-18.361</td>\n",
       "    </tr>\n",
       "    <tr>\n",
       "      <th>6</th>\n",
       "      <td>256</td>\n",
       "      <td>ZWE</td>\n",
       "      <td>Zimbabwe</td>\n",
       "      <td>3</td>\n",
       "      <td>Manicaland</td>\n",
       "      <td>7</td>\n",
       "      <td>Mutare</td>\n",
       "      <td>District</td>\n",
       "      <td>District</td>\n",
       "      <td>NaN</td>\n",
       "      <td>Umtali</td>\n",
       "      <td>32.42860</td>\n",
       "      <td>-19.223</td>\n",
       "    </tr>\n",
       "    <tr>\n",
       "      <th>7</th>\n",
       "      <td>256</td>\n",
       "      <td>ZWE</td>\n",
       "      <td>Zimbabwe</td>\n",
       "      <td>3</td>\n",
       "      <td>Manicaland</td>\n",
       "      <td>8</td>\n",
       "      <td>Mutasa</td>\n",
       "      <td>District</td>\n",
       "      <td>District</td>\n",
       "      <td>NaN</td>\n",
       "      <td>NaN</td>\n",
       "      <td>32.70630</td>\n",
       "      <td>-18.642</td>\n",
       "    </tr>\n",
       "    <tr>\n",
       "      <th>8</th>\n",
       "      <td>256</td>\n",
       "      <td>ZWE</td>\n",
       "      <td>Zimbabwe</td>\n",
       "      <td>3</td>\n",
       "      <td>Manicaland</td>\n",
       "      <td>9</td>\n",
       "      <td>Nyanga</td>\n",
       "      <td>District</td>\n",
       "      <td>District</td>\n",
       "      <td>NaN</td>\n",
       "      <td>NaN</td>\n",
       "      <td>32.75542</td>\n",
       "      <td>-17.935</td>\n",
       "    </tr>\n",
       "    <tr>\n",
       "      <th>9</th>\n",
       "      <td>256</td>\n",
       "      <td>ZWE</td>\n",
       "      <td>Zimbabwe</td>\n",
       "      <td>4</td>\n",
       "      <td>Mashonaland Central</td>\n",
       "      <td>10</td>\n",
       "      <td>Bindura</td>\n",
       "      <td>District</td>\n",
       "      <td>District</td>\n",
       "      <td>NaN</td>\n",
       "      <td>NaN</td>\n",
       "      <td>31.30638</td>\n",
       "      <td>-17.241</td>\n",
       "    </tr>\n",
       "    <tr>\n",
       "      <th>10</th>\n",
       "      <td>256</td>\n",
       "      <td>ZWE</td>\n",
       "      <td>Zimbabwe</td>\n",
       "      <td>4</td>\n",
       "      <td>Mashonaland Central</td>\n",
       "      <td>11</td>\n",
       "      <td>Centenary</td>\n",
       "      <td>District</td>\n",
       "      <td>District</td>\n",
       "      <td>NaN</td>\n",
       "      <td>Muzarambani</td>\n",
       "      <td>31.14301</td>\n",
       "      <td>-16.427</td>\n",
       "    </tr>\n",
       "    <tr>\n",
       "      <th>11</th>\n",
       "      <td>256</td>\n",
       "      <td>ZWE</td>\n",
       "      <td>Zimbabwe</td>\n",
       "      <td>4</td>\n",
       "      <td>Mashonaland Central</td>\n",
       "      <td>12</td>\n",
       "      <td>Guruve</td>\n",
       "      <td>District</td>\n",
       "      <td>District</td>\n",
       "      <td>NaN</td>\n",
       "      <td>Sipolilo</td>\n",
       "      <td>30.56892</td>\n",
       "      <td>-16.334</td>\n",
       "    </tr>\n",
       "    <tr>\n",
       "      <th>12</th>\n",
       "      <td>256</td>\n",
       "      <td>ZWE</td>\n",
       "      <td>Zimbabwe</td>\n",
       "      <td>4</td>\n",
       "      <td>Mashonaland Central</td>\n",
       "      <td>13</td>\n",
       "      <td>Mazowe</td>\n",
       "      <td>District</td>\n",
       "      <td>District</td>\n",
       "      <td>NaN</td>\n",
       "      <td>NaN</td>\n",
       "      <td>30.93018</td>\n",
       "      <td>-17.255</td>\n",
       "    </tr>\n",
       "    <tr>\n",
       "      <th>13</th>\n",
       "      <td>256</td>\n",
       "      <td>ZWE</td>\n",
       "      <td>Zimbabwe</td>\n",
       "      <td>4</td>\n",
       "      <td>Mashonaland Central</td>\n",
       "      <td>14</td>\n",
       "      <td>Mount Darwin</td>\n",
       "      <td>District</td>\n",
       "      <td>District</td>\n",
       "      <td>NaN</td>\n",
       "      <td>Mt Darwin</td>\n",
       "      <td>31.65329</td>\n",
       "      <td>-16.572</td>\n",
       "    </tr>\n",
       "    <tr>\n",
       "      <th>14</th>\n",
       "      <td>256</td>\n",
       "      <td>ZWE</td>\n",
       "      <td>Zimbabwe</td>\n",
       "      <td>4</td>\n",
       "      <td>Mashonaland Central</td>\n",
       "      <td>15</td>\n",
       "      <td>Rushinga</td>\n",
       "      <td>District</td>\n",
       "      <td>District</td>\n",
       "      <td>NaN</td>\n",
       "      <td>NaN</td>\n",
       "      <td>32.29195</td>\n",
       "      <td>-16.609</td>\n",
       "    </tr>\n",
       "    <tr>\n",
       "      <th>15</th>\n",
       "      <td>256</td>\n",
       "      <td>ZWE</td>\n",
       "      <td>Zimbabwe</td>\n",
       "      <td>4</td>\n",
       "      <td>Mashonaland Central</td>\n",
       "      <td>16</td>\n",
       "      <td>Shamva</td>\n",
       "      <td>District</td>\n",
       "      <td>District</td>\n",
       "      <td>NaN</td>\n",
       "      <td>NaN</td>\n",
       "      <td>31.64150</td>\n",
       "      <td>-17.097</td>\n",
       "    </tr>\n",
       "    <tr>\n",
       "      <th>16</th>\n",
       "      <td>256</td>\n",
       "      <td>ZWE</td>\n",
       "      <td>Zimbabwe</td>\n",
       "      <td>5</td>\n",
       "      <td>Mashonaland East</td>\n",
       "      <td>17</td>\n",
       "      <td>Chikomba</td>\n",
       "      <td>District</td>\n",
       "      <td>District</td>\n",
       "      <td>NaN</td>\n",
       "      <td>NaN</td>\n",
       "      <td>31.09823</td>\n",
       "      <td>-18.887</td>\n",
       "    </tr>\n",
       "    <tr>\n",
       "      <th>17</th>\n",
       "      <td>256</td>\n",
       "      <td>ZWE</td>\n",
       "      <td>Zimbabwe</td>\n",
       "      <td>5</td>\n",
       "      <td>Mashonaland East</td>\n",
       "      <td>18</td>\n",
       "      <td>Goromonzi</td>\n",
       "      <td>District</td>\n",
       "      <td>District</td>\n",
       "      <td>NaN</td>\n",
       "      <td>NaN</td>\n",
       "      <td>31.34477</td>\n",
       "      <td>-17.791</td>\n",
       "    </tr>\n",
       "    <tr>\n",
       "      <th>18</th>\n",
       "      <td>256</td>\n",
       "      <td>ZWE</td>\n",
       "      <td>Zimbabwe</td>\n",
       "      <td>5</td>\n",
       "      <td>Mashonaland East</td>\n",
       "      <td>19</td>\n",
       "      <td>Marondera</td>\n",
       "      <td>District</td>\n",
       "      <td>District</td>\n",
       "      <td>NaN</td>\n",
       "      <td>Marandellas</td>\n",
       "      <td>31.49960</td>\n",
       "      <td>-18.269</td>\n",
       "    </tr>\n",
       "    <tr>\n",
       "      <th>19</th>\n",
       "      <td>256</td>\n",
       "      <td>ZWE</td>\n",
       "      <td>Zimbabwe</td>\n",
       "      <td>5</td>\n",
       "      <td>Mashonaland East</td>\n",
       "      <td>20</td>\n",
       "      <td>Mudzi</td>\n",
       "      <td>District</td>\n",
       "      <td>District</td>\n",
       "      <td>NaN</td>\n",
       "      <td>NaN</td>\n",
       "      <td>32.63835</td>\n",
       "      <td>-17.034</td>\n",
       "    </tr>\n",
       "  </tbody>\n",
       "</table>\n",
       "</div>"
      ],
      "text/plain": [
       "    ID_0  ISO    NAME_0  ID_1               NAME_1  ID_2        NAME_2  \\\n",
       "0    256  ZWE  Zimbabwe     1             Bulawayo     1      Bulawayo   \n",
       "1    256  ZWE  Zimbabwe     2               Harare     2        Harare   \n",
       "2    256  ZWE  Zimbabwe     3           Manicaland     3        Buhera   \n",
       "3    256  ZWE  Zimbabwe     3           Manicaland     4   Chimanimani   \n",
       "4    256  ZWE  Zimbabwe     3           Manicaland     5      Chipinge   \n",
       "5    256  ZWE  Zimbabwe     3           Manicaland     6        Makoni   \n",
       "6    256  ZWE  Zimbabwe     3           Manicaland     7        Mutare   \n",
       "7    256  ZWE  Zimbabwe     3           Manicaland     8        Mutasa   \n",
       "8    256  ZWE  Zimbabwe     3           Manicaland     9        Nyanga   \n",
       "9    256  ZWE  Zimbabwe     4  Mashonaland Central    10       Bindura   \n",
       "10   256  ZWE  Zimbabwe     4  Mashonaland Central    11     Centenary   \n",
       "11   256  ZWE  Zimbabwe     4  Mashonaland Central    12        Guruve   \n",
       "12   256  ZWE  Zimbabwe     4  Mashonaland Central    13        Mazowe   \n",
       "13   256  ZWE  Zimbabwe     4  Mashonaland Central    14  Mount Darwin   \n",
       "14   256  ZWE  Zimbabwe     4  Mashonaland Central    15      Rushinga   \n",
       "15   256  ZWE  Zimbabwe     4  Mashonaland Central    16        Shamva   \n",
       "16   256  ZWE  Zimbabwe     5     Mashonaland East    17      Chikomba   \n",
       "17   256  ZWE  Zimbabwe     5     Mashonaland East    18     Goromonzi   \n",
       "18   256  ZWE  Zimbabwe     5     Mashonaland East    19     Marondera   \n",
       "19   256  ZWE  Zimbabwe     5     Mashonaland East    20         Mudzi   \n",
       "\n",
       "      TYPE_2 ENGTYPE_2  NL_NAME_2               VARNAME_2         x       y  \n",
       "0   District  District        NaN                     NaN  28.54811 -20.141  \n",
       "1   District  District        NaN  Salisbury|Harare Urban  31.06504 -17.859  \n",
       "2   District  District        NaN                     NaN  31.87523 -19.451  \n",
       "3   District  District        NaN                     NaN  32.72136 -19.781  \n",
       "4   District  District        NaN                     NaN  32.47598 -20.495  \n",
       "5   District  District        NaN                     NaN  32.18336 -18.361  \n",
       "6   District  District        NaN                  Umtali  32.42860 -19.223  \n",
       "7   District  District        NaN                     NaN  32.70630 -18.642  \n",
       "8   District  District        NaN                     NaN  32.75542 -17.935  \n",
       "9   District  District        NaN                     NaN  31.30638 -17.241  \n",
       "10  District  District        NaN             Muzarambani  31.14301 -16.427  \n",
       "11  District  District        NaN                Sipolilo  30.56892 -16.334  \n",
       "12  District  District        NaN                     NaN  30.93018 -17.255  \n",
       "13  District  District        NaN               Mt Darwin  31.65329 -16.572  \n",
       "14  District  District        NaN                     NaN  32.29195 -16.609  \n",
       "15  District  District        NaN                     NaN  31.64150 -17.097  \n",
       "16  District  District        NaN                     NaN  31.09823 -18.887  \n",
       "17  District  District        NaN                     NaN  31.34477 -17.791  \n",
       "18  District  District        NaN             Marandellas  31.49960 -18.269  \n",
       "19  District  District        NaN                     NaN  32.63835 -17.034  "
      ]
     },
     "execution_count": 3,
     "metadata": {},
     "output_type": "execute_result"
    }
   ],
   "source": [
    "csv = r\"C:\\Users\\Surveyor Jr\\Desktop\\African Surveyors Academy\\ArcGIS API for Python\\data\\zwe_districts.csv\"\n",
    "districts = pd.read_csv(csv)\n",
    "districts.head(20) "
   ]
  },
  {
   "cell_type": "markdown",
   "metadata": {},
   "source": [
    "*Columns with no value in them will be displayed as* **NaN** \n",
    "\n",
    "We just want to see how many rows and how many columns are contained within our dataset. \n",
    "To do that we just call in `shape` after our variable and our information is displayed below in the format: \n",
    "`(rows, columns)` "
   ]
  },
  {
   "cell_type": "code",
   "execution_count": 4,
   "metadata": {},
   "outputs": [
    {
     "data": {
      "text/plain": [
       "(60, 13)"
      ]
     },
     "execution_count": 4,
     "metadata": {},
     "output_type": "execute_result"
    }
   ],
   "source": [
    "districts.shape"
   ]
  },
  {
   "cell_type": "markdown",
   "metadata": {},
   "source": [
    "## Publishing An Item \n",
    "\n",
    "We have seen what our data looks like and we are sure its the right dataset that we want to use. For some, if you would like to make changes to the data before publishing you could also do that again. (We will talk about how you can edit data using Pandas in another tutorial) \n",
    "\n",
    "Now we need to publish an item to the ArcGIS Online platform based on our CSV file which is still within our local machine. \n",
    "\n",
    "To do that, we need to declare a variable here which we just named `item_csv` which is going to store some property information for us. We are just going to put *title* as the only property for now. \n",
    "\n",
    "We then have to call again another variable and this time we will name it `csv_item` in which we will call the **gis** library and give it a command that we need to **add** some **content** with these properties (`item_csv`) using this data (`csv`). \n",
    "\n",
    "*Remember that we already declared variables which contain the paths and data that we need to upload so we just call the variables instead of typing a huge piece of code which is just executed once* \n",
    "\n",
    "Lets call that variable `csv_item` to show us the output of our newly uploaded item within our ArcGIS Online platform. "
   ]
  },
  {
   "cell_type": "code",
   "execution_count": 5,
   "metadata": {},
   "outputs": [
    {
     "data": {
      "text/html": [
       "<div class=\"item_container\" style=\"height: auto; overflow: hidden; border: 1px solid #cfcfcf; border-radius: 2px; background: #f6fafa; line-height: 1.21429em; padding: 10px;\">\n",
       "                    <div class=\"item_left\" style=\"width: 210px; float: left;\">\n",
       "                       <a href='http://africansurveyors.maps.arcgis.com/home/item.html?id=14a53c6f5ec845c7872327df2b4afb15' target='_blank'>\n",
       "                        <img src='http://static.arcgis.com/images/desktopapp.png' class=\"itemThumbnail\">\n",
       "                       </a>\n",
       "                    </div>\n",
       "\n",
       "                    <div class=\"item_right\"     style=\"float: none; width: auto; overflow: hidden;\">\n",
       "                        <a href='http://africansurveyors.maps.arcgis.com/home/item.html?id=14a53c6f5ec845c7872327df2b4afb15' target='_blank'><b>ZWE Districts</b>\n",
       "                        </a>\n",
       "                        <br/><img src='http://africansurveyors.maps.arcgis.com/home/js/jsapi/esri/css/images/item_type_icons/layers16.png' style=\"vertical-align:middle;\">CSV by africansurveyors\n",
       "                        <br/>Last Modified: March 04, 2021\n",
       "                        <br/>0 comments, 0 views\n",
       "                    </div>\n",
       "                </div>\n",
       "                "
      ],
      "text/plain": [
       "<Item title:\"ZWE Districts\" type:CSV owner:africansurveyors>"
      ]
     },
     "execution_count": 5,
     "metadata": {},
     "output_type": "execute_result"
    }
   ],
   "source": [
    "item_csv = {'title': \"ZWE Districts\"}\n",
    "csv_item = gis.content.add(item_properties=item_csv, data=csv)\n",
    "csv_item"
   ]
  },
  {
   "cell_type": "markdown",
   "metadata": {},
   "source": [
    "## Create a Feature Layer \n",
    "\n",
    "Since we have already uploaded our data as an item, it only takes two lines of code to create a **Feature Layer** from that item. \n",
    "\n",
    "- we create a variable which contains the name of our item and the **publish** function which has NO parameters at the moment\n",
    "- we just call our variable for us to verify that the item is now a **Feature Layer** \n",
    "\n",
    "WE HAVE A FEATURE LAYER. GREAT! \n",
    "\n",
    "*Notice the Difference in MetaData between the **Out[5]** and **Out[6]** cell blocks*"
   ]
  },
  {
   "cell_type": "code",
   "execution_count": 6,
   "metadata": {},
   "outputs": [
    {
     "data": {
      "text/html": [
       "<div class=\"item_container\" style=\"height: auto; overflow: hidden; border: 1px solid #cfcfcf; border-radius: 2px; background: #f6fafa; line-height: 1.21429em; padding: 10px;\">\n",
       "                    <div class=\"item_left\" style=\"width: 210px; float: left;\">\n",
       "                       <a href='http://africansurveyors.maps.arcgis.com/home/item.html?id=3b35d36b622f4a82936af18d36de1fcd' target='_blank'>\n",
       "                        <img src='http://static.arcgis.com/images/desktopapp.png' class=\"itemThumbnail\">\n",
       "                       </a>\n",
       "                    </div>\n",
       "\n",
       "                    <div class=\"item_right\"     style=\"float: none; width: auto; overflow: hidden;\">\n",
       "                        <a href='http://africansurveyors.maps.arcgis.com/home/item.html?id=3b35d36b622f4a82936af18d36de1fcd' target='_blank'><b>ZWE Districts</b>\n",
       "                        </a>\n",
       "                        <br/><img src='http://africansurveyors.maps.arcgis.com/home/js/jsapi/esri/css/images/item_type_icons/featureshosted16.png' style=\"vertical-align:middle;\">Feature Layer Collection by africansurveyors\n",
       "                        <br/>Last Modified: March 04, 2021\n",
       "                        <br/>0 comments, 0 views\n",
       "                    </div>\n",
       "                </div>\n",
       "                "
      ],
      "text/plain": [
       "<Item title:\"ZWE Districts\" type:Feature Layer Collection owner:africansurveyors>"
      ]
     },
     "execution_count": 6,
     "metadata": {},
     "output_type": "execute_result"
    }
   ],
   "source": [
    "districts_item = csv_item.publish()\n",
    "districts_item"
   ]
  },
  {
   "cell_type": "markdown",
   "metadata": {},
   "source": [
    "In this step, we just want to verify that we really uploaded this feature layer to the ArcGIS Online platform. Let's just run a basic search query. \n",
    "\n",
    "*In case you are lost - refer to the previous tutorial in the video at the beginning to understand more about searching with the Python API* \n",
    "\n",
    "OK. So our Feature Layer has been published we just confirmed it. If yours didn't publish, try checking that all the cells above have been ran without any errors and check especially for any typos that you might have made. "
   ]
  },
  {
   "cell_type": "code",
   "execution_count": 7,
   "metadata": {},
   "outputs": [
    {
     "data": {
      "text/html": [
       "<div class=\"item_container\" style=\"height: auto; overflow: hidden; border: 1px solid #cfcfcf; border-radius: 2px; background: #f6fafa; line-height: 1.21429em; padding: 10px;\">\n",
       "                    <div class=\"item_left\" style=\"width: 210px; float: left;\">\n",
       "                       <a href='http://africansurveyors.maps.arcgis.com/home/item.html?id=3b35d36b622f4a82936af18d36de1fcd' target='_blank'>\n",
       "                        <img src='http://static.arcgis.com/images/desktopapp.png' class=\"itemThumbnail\">\n",
       "                       </a>\n",
       "                    </div>\n",
       "\n",
       "                    <div class=\"item_right\"     style=\"float: none; width: auto; overflow: hidden;\">\n",
       "                        <a href='http://africansurveyors.maps.arcgis.com/home/item.html?id=3b35d36b622f4a82936af18d36de1fcd' target='_blank'><b>ZWE Districts</b>\n",
       "                        </a>\n",
       "                        <br/><img src='http://africansurveyors.maps.arcgis.com/home/js/jsapi/esri/css/images/item_type_icons/featureshosted16.png' style=\"vertical-align:middle;\">Feature Layer Collection by africansurveyors\n",
       "                        <br/>Last Modified: March 04, 2021\n",
       "                        <br/>0 comments, 0 views\n",
       "                    </div>\n",
       "                </div>\n",
       "                "
      ],
      "text/plain": [
       "<Item title:\"ZWE Districts\" type:Feature Layer Collection owner:africansurveyors>"
      ]
     },
     "execution_count": 7,
     "metadata": {},
     "output_type": "execute_result"
    }
   ],
   "source": [
    "districts_lyr = gis.content.search(query=\"Districts*\", item_type=\"Feature Layer\")[0]\n",
    "districts_lyr"
   ]
  },
  {
   "cell_type": "markdown",
   "metadata": {},
   "source": [
    "## Add Layer to Map\n",
    "\n",
    "We're getting ready to add our newly added layer to the map. Before we do that I am just going to show you one important thing that has to do with Feature Layers. \n",
    "\n",
    "All feature layers within the ArcGIS Platform have an *Index*. This is just the number contained at the end of the URL for the whole feature layer. This Index helps us indentify the dataset which we want to use. \n",
    "\n",
    "*Imagine if we had publised a **Geodatabase File** with multiple layers all combined and attached to one URL. We would need to know which is which because we could have line data and point data within the Geodatabase file and they have the same URL.  The only thing to separate them is the Index at the end of the URL after the trailing slash (/).* \n",
    "\n",
    "These Indexes start at Zero(0). So if we have just one feature within a layer, that automatically means that its index is Zero. So I am just going to use that here and so that you know how Layer Indexes work. "
   ]
  },
  {
   "cell_type": "code",
   "execution_count": 8,
   "metadata": {},
   "outputs": [],
   "source": [
    "districts_lyr = districts_lyr.layers[0]"
   ]
  },
  {
   "cell_type": "markdown",
   "metadata": {},
   "source": [
    "### Call the Map with Location \n",
    "\n",
    "We have called a map for use to have a basemap in order to easily visualize the data which we are about to add. \n",
    "\n",
    "*Remember from our last tutorial, we discussed on how we can add a basemap to these maps*. In my case, I am just going to leave that as default. "
   ]
  },
  {
   "cell_type": "code",
   "execution_count": 9,
   "metadata": {
    "scrolled": false
   },
   "outputs": [
    {
     "data": {
      "application/vnd.jupyter.widget-view+json": {
       "model_id": "6b63caaf285847909493ceb126665ac2",
       "version_major": 2,
       "version_minor": 0
      },
      "text/plain": [
       "MapView(layout=Layout(height='400px', width='100%'))"
      ]
     },
     "metadata": {},
     "output_type": "display_data"
    },
    {
     "data": {
      "text/html": [
       "<div class=\"map-static-img-preview-da19a32f-13d9-45a1-8d9b-9b25cc233554\"><img src=\"\"></img></div>"
      ],
      "text/plain": [
       "<IPython.core.display.HTML object>"
      ]
     },
     "metadata": {},
     "output_type": "display_data"
    }
   ],
   "source": [
    "map = gis.map(\"Zimbabwe\", 6)\n",
    "map"
   ]
  },
  {
   "cell_type": "markdown",
   "metadata": {},
   "source": [
    "Finally, our last step is to load the layer onto the map by simply calling the `add_layer()` function like what we did previous in the last tutorial again. \n",
    "\n",
    "The variable in which we selected an index for the layer is the one which is going to be our parameters for this function. \n",
    "\n",
    "Wait a few seconds, depending on your network connection and your Feature Layer will be plotted onto your map. "
   ]
  },
  {
   "cell_type": "code",
   "execution_count": 10,
   "metadata": {},
   "outputs": [],
   "source": [
    "map.add_layer(districts_lyr)"
   ]
  },
  {
   "cell_type": "markdown",
   "metadata": {},
   "source": [
    "If you didn't face any errors along the way and managed to get the data onto the map then;\n",
    "\n",
    "## CONGRATULATIONS \n",
    "\n",
    "![Congratulations](https://media1.giphy.com/media/3oz9ZE2Oo9zRC/200.gif)\n",
    "\n",
    "\n",
    "You've managed to complete your first step in **#GISAutomation** "
   ]
  },
  {
   "cell_type": "markdown",
   "metadata": {},
   "source": [
    "For anyone having trouble or fails to understand this tutorial, I am reachable via [LinkedIn](https://www.linkedin.com/in/kumbirai-matingo-6910a617a/). Just send me a direct message and I will be sure to respond to any questions relating to the tutorials that you might have. \n"
   ]
  },
  {
   "cell_type": "markdown",
   "metadata": {},
   "source": [
    "## About Author \n",
    "\n",
    "![Kumbirai Matingo.jpg](https://pbs.twimg.com/profile_images/1348641760575168515/NalgUV_9_200x200.jpg)\n",
    "\n",
    "- 3rd Year BSc Hons in Surveying & Geomatics\n",
    "- Interested in GIS for Health and Land Administration, Spatial Data Science and Programming \n",
    "- currently working on a book titled: **GIS Step by Step: A Practical Guide to GIS** "
   ]
  }
 ],
 "metadata": {
  "kernelspec": {
   "display_name": "Python 3",
   "language": "python",
   "name": "python3"
  },
  "language_info": {
   "codemirror_mode": {
    "name": "ipython",
    "version": 3
   },
   "file_extension": ".py",
   "mimetype": "text/x-python",
   "name": "python",
   "nbconvert_exporter": "python",
   "pygments_lexer": "ipython3",
   "version": "3.8.3"
  }
 },
 "nbformat": 4,
 "nbformat_minor": 4
}
