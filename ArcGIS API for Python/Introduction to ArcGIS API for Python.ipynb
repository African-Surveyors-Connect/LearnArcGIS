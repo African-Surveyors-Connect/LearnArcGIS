{
 "cells": [
  {
   "cell_type": "markdown",
   "metadata": {},
   "source": [
    "# Introduction to Jupyter Notebooks for Spatial Analysis "
   ]
  },
  {
   "cell_type": "markdown",
   "metadata": {},
   "source": [
    "*In this tutorial, we are going to be using the Jupyter Notebooks to analyse spatial data*"
   ]
  },
  {
   "cell_type": "markdown",
   "metadata": {},
   "source": [
    "<img src=\"https://www.arcgis.com/sharing/rest/content/items/6336297a6ae948378eab4ae3978e7541/resources/asc-logo-transparent.png\" height=\"150\" width=\"150\">\n",
    "Tutorial By: Kumbirai Matingo<br>\n",
    "Published By: <a href=\"https://africansurveyors.net\">African Surveyors Connect</a>"
   ]
  },
  {
   "cell_type": "markdown",
   "metadata": {},
   "source": [
    "## Installing ArcGIS API for Python"
   ]
  },
  {
   "cell_type": "markdown",
   "metadata": {},
   "source": [
    "Following the steps below, you will be able to install the API on your machine and get to work with this Rich Python Library for Spatial Data Science\n",
    "\n",
    "### Download Anaconda\n",
    "\n",
    "- Navigate to <a href=\"https://www.anaconda.com/products/individual#Downloads\">Anaconda Website</a> and get to downlaod the *Anaconda* application which is going to download all the python libraries and install **Jupyter Notebooks** which are much needed for this tutorial \n",
    "- Run the installation file to install it on your machine\n",
    "        \n",
    "### Run Commands\n",
    "\n",
    "- click on the Start Menu,\n",
    "- find **Anaconda** folder,\n",
    "- click on it to expand it \n",
    "- Right Click the Jupyter NoteBook icon and Open file location\n",
    "- Right click on the Command Prompt and *Run as Administrator* \n",
    "\n",
    "The command line tool will open and input the following code:\n",
    "\n",
    "\n",
    "- installing the ArcGIS Python Libraries onto your machine \n",
    "\n",
    "`conda install -c esri arcgis` \n",
    "\n",
    "- Type **y** to accept the packages listed to install on your machine \n",
    "- that's it. Python API is installed \n",
    "\n",
    "### Open Jupyter NoteBooks \n",
    "Now we need to start working and we just need to run one more command in the command prompt. \n",
    "Type and run, \n",
    "\n",
    "`jupyter notebook` \n",
    "\n",
    "- the environment opens \n",
    "- navigate to a Folder in which you want to work in\n",
    "- create a *Python 3* Notebook by clicking on **New** which is on the tool bar \n",
    "- a new tab opens and you are ready to begin \n",
    "\n",
    "### CONGRATULATIONS ON YOUR FIRST STEP \n",
    "\n",
    "![Congratulations GIF](https://media1.giphy.com/media/3oz9ZE2Oo9zRC/200.gif)\n",
    "\n",
    "---\n",
    "       "
   ]
  },
  {
   "cell_type": "markdown",
   "metadata": {},
   "source": [
    "## Creating Maps & Adding Layers"
   ]
  },
  {
   "cell_type": "markdown",
   "metadata": {},
   "source": [
    "Importing the Python Libraries into our project.\n",
    "- call the ArcGIS library \n",
    "- import the GIS capabilities \n",
    "- declare a variable and assign the GIS Methods to it"
   ]
  },
  {
   "cell_type": "code",
   "execution_count": 5,
   "metadata": {},
   "outputs": [],
   "source": [
    "from arcgis.gis import GIS\n",
    "gis = GIS()"
   ]
  },
  {
   "cell_type": "markdown",
   "metadata": {},
   "source": [
    "We just imported the ArcGIS API for Python by calling it from the **arcgis** library for the Python language. \n",
    "\n",
    "#### Let's create a simple map using a named location\n",
    "\n",
    "- create a variable named **map** or any other name you might give it\n",
    "- call the variable in order to display an out \n",
    "\n",
    "*If you do not call the variable after declaring it, then no output is displayed* "
   ]
  },
  {
   "cell_type": "code",
   "execution_count": 6,
   "metadata": {},
   "outputs": [
    {
     "data": {
      "application/vnd.jupyter.widget-view+json": {
       "model_id": "b329f838413b48cead483536b6c94794",
       "version_major": 2,
       "version_minor": 0
      },
      "text/plain": [
       "MapView(layout=Layout(height='400px', width='100%'))"
      ]
     },
     "metadata": {},
     "output_type": "display_data"
    },
    {
     "data": {
      "text/html": [
       "<div class=\"map-static-img-preview-c466f5ad-3808-45b1-8e02-b9b014fa0275\"><img src=\"\"></img></div>"
      ],
      "text/plain": [
       "<IPython.core.display.HTML object>"
      ]
     },
     "metadata": {},
     "output_type": "display_data"
    }
   ],
   "source": [
    "map = gis.map(\"Africa\")\n",
    "map"
   ]
  },
  {
   "cell_type": "markdown",
   "metadata": {},
   "source": [
    "### Styling The Map\n",
    "\n",
    "We can edit attributes like **Centering** and **Zooming** among others which we will touch on in future tutorials "
   ]
  },
  {
   "cell_type": "code",
   "execution_count": 7,
   "metadata": {},
   "outputs": [],
   "source": [
    "map.center = [-19.0154, 29.1549]\n",
    "map.zoom = 7"
   ]
  },
  {
   "cell_type": "markdown",
   "metadata": {},
   "source": [
    "**Get the JSON feedback for all available Basemaps to use within the map display**"
   ]
  },
  {
   "cell_type": "code",
   "execution_count": 8,
   "metadata": {},
   "outputs": [
    {
     "data": {
      "text/plain": [
       "['dark-gray',\n",
       " 'dark-gray-vector',\n",
       " 'gray',\n",
       " 'gray-vector',\n",
       " 'hybrid',\n",
       " 'national-geographic',\n",
       " 'oceans',\n",
       " 'osm',\n",
       " 'satellite',\n",
       " 'streets',\n",
       " 'streets-navigation-vector',\n",
       " 'streets-night-vector',\n",
       " 'streets-relief-vector',\n",
       " 'streets-vector',\n",
       " 'terrain',\n",
       " 'topo',\n",
       " 'topo-vector']"
      ]
     },
     "execution_count": 8,
     "metadata": {},
     "output_type": "execute_result"
    }
   ],
   "source": [
    "map.basemaps"
   ]
  },
  {
   "cell_type": "markdown",
   "metadata": {},
   "source": [
    "Change the basemap to the original map. \n",
    "\n",
    "**Take note that the *map* variable is still the one in use and it will just change the map displayed above**"
   ]
  },
  {
   "cell_type": "code",
   "execution_count": 9,
   "metadata": {},
   "outputs": [],
   "source": [
    "map.basemap = 'dark-gray-vector'"
   ]
  },
  {
   "cell_type": "markdown",
   "metadata": {},
   "source": [
    "### Searching and Retrieving OpenData \n",
    "\n",
    "- create a *variable* to store results\n",
    "- define the *search terms*\n",
    "- define the *item types* you want to search\n",
    "- if you don't want to flood your screen with results, define the maximum items to display \n",
    "- call the variable to display the results "
   ]
  },
  {
   "cell_type": "code",
   "execution_count": 11,
   "metadata": {},
   "outputs": [
    {
     "data": {
      "text/plain": [
       "[<Item title:\"CASES IN ZIMBABWE\" type:Feature Layer Collection owner:mohcccovid19>,\n",
       " <Item title:\"SexDistrubution\" type:Table Layer owner:surveyor_jr>,\n",
       " <Item title:\"Vaccine Distribution Program\" type:Feature Layer Collection owner:surveyor_jr>,\n",
       " <Item title:\"CaseFatalityRateByAgeGroup\" type:Table Layer owner:surveyor_jr>,\n",
       " <Item title:\"CasesAndDeathsPerAgeGroup\" type:Table Layer owner:surveyor_jr>,\n",
       " <Item title:\"CASES IN ZIMBABWE\" type:Feature Layer Collection owner:yona@esri_southernafrica>,\n",
       " <Item title:\"POSITIVE CASES IN ZIMBABWE\" type:Feature Layer Collection owner:yona@esri_southernafrica>,\n",
       " <Item title:\"case_distribution_by_district_WFL1\" type:Feature Layer Collection owner:surveyor_jr>]"
      ]
     },
     "execution_count": 11,
     "metadata": {},
     "output_type": "execute_result"
    }
   ],
   "source": [
    "display_content = gis.content.search(\"Zimbabwe COVID-19\", item_type=\"Feature Layer\", max_items=10)\n",
    "display_content"
   ]
  },
  {
   "cell_type": "markdown",
   "metadata": {},
   "source": [
    "**display the results in a pleasing way than just text format** \n",
    "\n",
    "Using the same **variable** declared above. "
   ]
  },
  {
   "cell_type": "code",
   "execution_count": 12,
   "metadata": {},
   "outputs": [
    {
     "data": {
      "text/html": [
       "<div class=\"item_container\" style=\"height: auto; overflow: hidden; border: 1px solid #cfcfcf; border-radius: 2px; background: #f6fafa; line-height: 1.21429em; padding: 10px;\">\n",
       "                    <div class=\"item_left\" style=\"width: 210px; float: left;\">\n",
       "                       <a href='https://www.arcgis.com/home/item.html?id=d112ddacabad409b8445ac83a24d9262' target='_blank'>\n",
       "                        <img src='https://www.arcgis.com/sharing/rest//content/items/d112ddacabad409b8445ac83a24d9262/info/thumbnail/ago_downloaded.png' class=\"itemThumbnail\">\n",
       "                       </a>\n",
       "                    </div>\n",
       "\n",
       "                    <div class=\"item_right\"     style=\"float: none; width: auto; overflow: hidden;\">\n",
       "                        <a href='https://www.arcgis.com/home/item.html?id=d112ddacabad409b8445ac83a24d9262' target='_blank'><b>CASES IN ZIMBABWE</b>\n",
       "                        </a>\n",
       "                        <br/><img src='https://www.arcgis.com/home/js/jsapi/esri/css/images/item_type_icons/featureshosted16.png' style=\"vertical-align:middle;\">Feature Layer Collection by mohcccovid19\n",
       "                        <br/>Last Modified: April 14, 2020\n",
       "                        <br/>0 comments, 23 views\n",
       "                    </div>\n",
       "                </div>\n",
       "                "
      ],
      "text/plain": [
       "<Item title:\"CASES IN ZIMBABWE\" type:Feature Layer Collection owner:mohcccovid19>"
      ]
     },
     "metadata": {},
     "output_type": "display_data"
    },
    {
     "data": {
      "text/html": [
       "<div class=\"item_container\" style=\"height: auto; overflow: hidden; border: 1px solid #cfcfcf; border-radius: 2px; background: #f6fafa; line-height: 1.21429em; padding: 10px;\">\n",
       "                    <div class=\"item_left\" style=\"width: 210px; float: left;\">\n",
       "                       <a href='https://www.arcgis.com/home/item.html?id=8164760f08cc43b3b9ddb4f859bc6f0f' target='_blank'>\n",
       "                        <img src='https://www.arcgis.com/sharing/rest//content/items/8164760f08cc43b3b9ddb4f859bc6f0f/info/thumbnail/ago_downloaded.png' class=\"itemThumbnail\">\n",
       "                       </a>\n",
       "                    </div>\n",
       "\n",
       "                    <div class=\"item_right\"     style=\"float: none; width: auto; overflow: hidden;\">\n",
       "                        <a href='https://www.arcgis.com/home/item.html?id=8164760f08cc43b3b9ddb4f859bc6f0f' target='_blank'><b>SexDistrubution</b>\n",
       "                        </a>\n",
       "                        <br/><img src='https://www.arcgis.com/home/js/jsapi/esri/css/images/item_type_icons/table16.png' style=\"vertical-align:middle;\">Table Layer by surveyor_jr\n",
       "                        <br/>Last Modified: December 07, 2020\n",
       "                        <br/>0 comments, 4 views\n",
       "                    </div>\n",
       "                </div>\n",
       "                "
      ],
      "text/plain": [
       "<Item title:\"SexDistrubution\" type:Table Layer owner:surveyor_jr>"
      ]
     },
     "metadata": {},
     "output_type": "display_data"
    },
    {
     "data": {
      "text/html": [
       "<div class=\"item_container\" style=\"height: auto; overflow: hidden; border: 1px solid #cfcfcf; border-radius: 2px; background: #f6fafa; line-height: 1.21429em; padding: 10px;\">\n",
       "                    <div class=\"item_left\" style=\"width: 210px; float: left;\">\n",
       "                       <a href='https://www.arcgis.com/home/item.html?id=339f0b31dfbb49cf892e82bb5c2f94e4' target='_blank'>\n",
       "                        <img src='https://www.arcgis.com/sharing/rest//content/items/339f0b31dfbb49cf892e82bb5c2f94e4/info/thumbnail/thumbnail1613640429709.png' class=\"itemThumbnail\">\n",
       "                       </a>\n",
       "                    </div>\n",
       "\n",
       "                    <div class=\"item_right\"     style=\"float: none; width: auto; overflow: hidden;\">\n",
       "                        <a href='https://www.arcgis.com/home/item.html?id=339f0b31dfbb49cf892e82bb5c2f94e4' target='_blank'><b>Vaccine Distribution Program</b>\n",
       "                        </a>\n",
       "                        <br/>A collection of the Coronavirus Vaccination roll-out and progress in Zimbabwe<img src='https://www.arcgis.com/home/js/jsapi/esri/css/images/item_type_icons/featureshosted16.png' style=\"vertical-align:middle;\">Feature Layer Collection by surveyor_jr\n",
       "                        <br/>Last Modified: February 18, 2021\n",
       "                        <br/>0 comments, 345 views\n",
       "                    </div>\n",
       "                </div>\n",
       "                "
      ],
      "text/plain": [
       "<Item title:\"Vaccine Distribution Program\" type:Feature Layer Collection owner:surveyor_jr>"
      ]
     },
     "metadata": {},
     "output_type": "display_data"
    },
    {
     "data": {
      "text/html": [
       "<div class=\"item_container\" style=\"height: auto; overflow: hidden; border: 1px solid #cfcfcf; border-radius: 2px; background: #f6fafa; line-height: 1.21429em; padding: 10px;\">\n",
       "                    <div class=\"item_left\" style=\"width: 210px; float: left;\">\n",
       "                       <a href='https://www.arcgis.com/home/item.html?id=840f7e659f2c489fa15ec74d94626cb0' target='_blank'>\n",
       "                        <img src='https://www.arcgis.com/sharing/rest//content/items/840f7e659f2c489fa15ec74d94626cb0/info/thumbnail/ago_downloaded.png' class=\"itemThumbnail\">\n",
       "                       </a>\n",
       "                    </div>\n",
       "\n",
       "                    <div class=\"item_right\"     style=\"float: none; width: auto; overflow: hidden;\">\n",
       "                        <a href='https://www.arcgis.com/home/item.html?id=840f7e659f2c489fa15ec74d94626cb0' target='_blank'><b>CaseFatalityRateByAgeGroup</b>\n",
       "                        </a>\n",
       "                        <br/><img src='https://www.arcgis.com/home/js/jsapi/esri/css/images/item_type_icons/table16.png' style=\"vertical-align:middle;\">Table Layer by surveyor_jr\n",
       "                        <br/>Last Modified: December 07, 2020\n",
       "                        <br/>0 comments, 3 views\n",
       "                    </div>\n",
       "                </div>\n",
       "                "
      ],
      "text/plain": [
       "<Item title:\"CaseFatalityRateByAgeGroup\" type:Table Layer owner:surveyor_jr>"
      ]
     },
     "metadata": {},
     "output_type": "display_data"
    },
    {
     "data": {
      "text/html": [
       "<div class=\"item_container\" style=\"height: auto; overflow: hidden; border: 1px solid #cfcfcf; border-radius: 2px; background: #f6fafa; line-height: 1.21429em; padding: 10px;\">\n",
       "                    <div class=\"item_left\" style=\"width: 210px; float: left;\">\n",
       "                       <a href='https://www.arcgis.com/home/item.html?id=ee90be1777c645a3a60efa30ab5adbe9' target='_blank'>\n",
       "                        <img src='https://www.arcgis.com/sharing/rest//content/items/ee90be1777c645a3a60efa30ab5adbe9/info/thumbnail/ago_downloaded.png' class=\"itemThumbnail\">\n",
       "                       </a>\n",
       "                    </div>\n",
       "\n",
       "                    <div class=\"item_right\"     style=\"float: none; width: auto; overflow: hidden;\">\n",
       "                        <a href='https://www.arcgis.com/home/item.html?id=ee90be1777c645a3a60efa30ab5adbe9' target='_blank'><b>CasesAndDeathsPerAgeGroup</b>\n",
       "                        </a>\n",
       "                        <br/><img src='https://www.arcgis.com/home/js/jsapi/esri/css/images/item_type_icons/table16.png' style=\"vertical-align:middle;\">Table Layer by surveyor_jr\n",
       "                        <br/>Last Modified: December 07, 2020\n",
       "                        <br/>0 comments, 2 views\n",
       "                    </div>\n",
       "                </div>\n",
       "                "
      ],
      "text/plain": [
       "<Item title:\"CasesAndDeathsPerAgeGroup\" type:Table Layer owner:surveyor_jr>"
      ]
     },
     "metadata": {},
     "output_type": "display_data"
    },
    {
     "data": {
      "text/html": [
       "<div class=\"item_container\" style=\"height: auto; overflow: hidden; border: 1px solid #cfcfcf; border-radius: 2px; background: #f6fafa; line-height: 1.21429em; padding: 10px;\">\n",
       "                    <div class=\"item_left\" style=\"width: 210px; float: left;\">\n",
       "                       <a href='https://www.arcgis.com/home/item.html?id=3644158e79004237a7d66bf000df53f6' target='_blank'>\n",
       "                        <img src='https://www.arcgis.com/sharing/rest//content/items/3644158e79004237a7d66bf000df53f6/info/thumbnail/ago_downloaded.png' class=\"itemThumbnail\">\n",
       "                       </a>\n",
       "                    </div>\n",
       "\n",
       "                    <div class=\"item_right\"     style=\"float: none; width: auto; overflow: hidden;\">\n",
       "                        <a href='https://www.arcgis.com/home/item.html?id=3644158e79004237a7d66bf000df53f6' target='_blank'><b>CASES IN ZIMBABWE</b>\n",
       "                        </a>\n",
       "                        <br/><img src='https://www.arcgis.com/home/js/jsapi/esri/css/images/item_type_icons/featureshosted16.png' style=\"vertical-align:middle;\">Feature Layer Collection by yona@esri_southernafrica\n",
       "                        <br/>Last Modified: December 18, 2020\n",
       "                        <br/>0 comments, 946 views\n",
       "                    </div>\n",
       "                </div>\n",
       "                "
      ],
      "text/plain": [
       "<Item title:\"CASES IN ZIMBABWE\" type:Feature Layer Collection owner:yona@esri_southernafrica>"
      ]
     },
     "metadata": {},
     "output_type": "display_data"
    },
    {
     "data": {
      "text/html": [
       "<div class=\"item_container\" style=\"height: auto; overflow: hidden; border: 1px solid #cfcfcf; border-radius: 2px; background: #f6fafa; line-height: 1.21429em; padding: 10px;\">\n",
       "                    <div class=\"item_left\" style=\"width: 210px; float: left;\">\n",
       "                       <a href='https://www.arcgis.com/home/item.html?id=6da5d152daff47c8bdbc550ffe2ff807' target='_blank'>\n",
       "                        <img src='https://www.arcgis.com/sharing/rest//content/items/6da5d152daff47c8bdbc550ffe2ff807/info/thumbnail/ago_downloaded.png' class=\"itemThumbnail\">\n",
       "                       </a>\n",
       "                    </div>\n",
       "\n",
       "                    <div class=\"item_right\"     style=\"float: none; width: auto; overflow: hidden;\">\n",
       "                        <a href='https://www.arcgis.com/home/item.html?id=6da5d152daff47c8bdbc550ffe2ff807' target='_blank'><b>POSITIVE CASES IN ZIMBABWE</b>\n",
       "                        </a>\n",
       "                        <br/><img src='https://www.arcgis.com/home/js/jsapi/esri/css/images/item_type_icons/featureshosted16.png' style=\"vertical-align:middle;\">Feature Layer Collection by yona@esri_southernafrica\n",
       "                        <br/>Last Modified: April 01, 2020\n",
       "                        <br/>0 comments, 332 views\n",
       "                    </div>\n",
       "                </div>\n",
       "                "
      ],
      "text/plain": [
       "<Item title:\"POSITIVE CASES IN ZIMBABWE\" type:Feature Layer Collection owner:yona@esri_southernafrica>"
      ]
     },
     "metadata": {},
     "output_type": "display_data"
    },
    {
     "data": {
      "text/html": [
       "<div class=\"item_container\" style=\"height: auto; overflow: hidden; border: 1px solid #cfcfcf; border-radius: 2px; background: #f6fafa; line-height: 1.21429em; padding: 10px;\">\n",
       "                    <div class=\"item_left\" style=\"width: 210px; float: left;\">\n",
       "                       <a href='https://www.arcgis.com/home/item.html?id=3eeef7a80c1a496b943bb16c0f69fe65' target='_blank'>\n",
       "                        <img src='https://www.arcgis.com/sharing/rest//content/items/3eeef7a80c1a496b943bb16c0f69fe65/info/thumbnail/ago_downloaded.png' class=\"itemThumbnail\">\n",
       "                       </a>\n",
       "                    </div>\n",
       "\n",
       "                    <div class=\"item_right\"     style=\"float: none; width: auto; overflow: hidden;\">\n",
       "                        <a href='https://www.arcgis.com/home/item.html?id=3eeef7a80c1a496b943bb16c0f69fe65' target='_blank'><b>case_distribution_by_district_WFL1</b>\n",
       "                        </a>\n",
       "                        <br/><img src='https://www.arcgis.com/home/js/jsapi/esri/css/images/item_type_icons/featureshosted16.png' style=\"vertical-align:middle;\">Feature Layer Collection by surveyor_jr\n",
       "                        <br/>Last Modified: January 31, 2021\n",
       "                        <br/>0 comments, 154 views\n",
       "                    </div>\n",
       "                </div>\n",
       "                "
      ],
      "text/plain": [
       "<Item title:\"case_distribution_by_district_WFL1\" type:Feature Layer Collection owner:surveyor_jr>"
      ]
     },
     "metadata": {},
     "output_type": "display_data"
    }
   ],
   "source": [
    "from IPython.display import display \n",
    "for item in display_content:\n",
    "    display(item)"
   ]
  },
  {
   "cell_type": "markdown",
   "metadata": {},
   "source": [
    "### Adding Content to Map"
   ]
  },
  {
   "cell_type": "code",
   "execution_count": 13,
   "metadata": {},
   "outputs": [
    {
     "name": "stdout",
     "output_type": "stream",
     "text": [
      "Token Required\n",
      "Token Required\n",
      "(Error Code: 499)\n"
     ]
    },
    {
     "name": "stderr",
     "output_type": "stream",
     "text": [
      "Item.layers is a 'NoneType' object: nothing to be added to map\n"
     ]
    },
    {
     "name": "stdout",
     "output_type": "stream",
     "text": [
      "Token Required\n",
      "Token Required\n",
      "(Error Code: 499)\n",
      "Token Required\n",
      "Token Required\n",
      "(Error Code: 499)\n"
     ]
    },
    {
     "name": "stderr",
     "output_type": "stream",
     "text": [
      "Item.layers is a 'NoneType' object: nothing to be added to map\n"
     ]
    },
    {
     "name": "stdout",
     "output_type": "stream",
     "text": [
      "Token Required\n",
      "Token Required\n",
      "(Error Code: 499)\n"
     ]
    }
   ],
   "source": [
    "poi = display_content \n",
    "map.add_layer(poi)"
   ]
  },
  {
   "cell_type": "markdown",
   "metadata": {},
   "source": [
    "*Some Layers not added to the map, because they do not belong to us and for that we need access tokens which we can get in the **ArcGIS Developers Dashboard**  meaning, if you haven't already you need to create an account for that* "
   ]
  },
  {
   "cell_type": "code",
   "execution_count": null,
   "metadata": {},
   "outputs": [],
   "source": []
  }
 ],
 "metadata": {
  "kernelspec": {
   "display_name": "Python 3",
   "language": "python",
   "name": "python3"
  },
  "language_info": {
   "codemirror_mode": {
    "name": "ipython",
    "version": 3
   },
   "file_extension": ".py",
   "mimetype": "text/x-python",
   "name": "python",
   "nbconvert_exporter": "python",
   "pygments_lexer": "ipython3",
   "version": "3.8.3"
  }
 },
 "nbformat": 4,
 "nbformat_minor": 4
}
